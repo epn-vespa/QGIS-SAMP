{
 "cells": [
  {
   "cell_type": "code",
   "execution_count": 1,
   "metadata": {
    "collapsed": false
   },
   "outputs": [],
   "source": [
    "from astropy import samp\n"
   ]
  },
  {
   "cell_type": "code",
   "execution_count": 2,
   "metadata": {
    "collapsed": false
   },
   "outputs": [],
   "source": [
    "def wptdReplacement(request,queue):\n",
    "    samp_name = \"unknown\"\n",
    "\n",
    "    if isinstance(request[0], str):\n",
    "        # To support the old protocol version\n",
    "        samp_name = request[0]\n",
    "    else:\n",
    "        samp_name = request[0][\"samp.name\"]\n",
    "\n",
    "    text = \\\n",
    "        \"\"\"A Web application which declares to be\n",
    "\n",
    "Name: {}\n",
    "Origin: {}\n",
    "\n",
    "is requesting to be registered with the SAMP Hub.\n",
    "Pay attention that if you permit its registration, such\n",
    "application will acquire all current user privileges, like\n",
    "file read/write.\n",
    "\n",
    "Do you give your consent? [yes|no]\"\"\".format(samp_name, request[2])\n",
    "\n",
    "    print(text)\n",
    "    #answer = input(\">>> \")\n",
    "    answer=\"y\"\n",
    "    print(\">>> \" + answer)\n",
    "    queue.put(answer.lower() in [\"yes\", \"y\"])\n"
   ]
  },
  {
   "cell_type": "code",
   "execution_count": 3,
   "metadata": {
    "collapsed": true
   },
   "outputs": [],
   "source": [
    "import select\n",
    "import queue\n",
    "def REPLACE_serve_forever(self):\n",
    "\n",
    "        while self._is_running:\n",
    "\n",
    "            try:\n",
    "                read_ready = select.select([self._server.socket], [], [], 0.01)[0]\n",
    "            except OSError as exc:\n",
    "                warnings.warn(\"Call to select() in SAMPHubServer failed: {0}\".format(exc),\n",
    "                              SAMPWarning)\n",
    "            else:\n",
    "                if read_ready:\n",
    "                    self._server.handle_request()\n",
    "\n",
    "            if self._web_profile:\n",
    "\n",
    "                # We now check if there are any connection requests from the\n",
    "                # web profile, and if so, we initialize the pop-up.\n",
    "                if self._web_profile_dialog is None:\n",
    "                    try:\n",
    "                        request = self._web_profile_requests_queue.get_nowait()\n",
    "                    except queue.Empty:\n",
    "                        pass\n",
    "                    else:\n",
    "                        #web_profile_text_dialog(request, self._web_profile_requests_result)\n",
    "                        wptdReplacement(request, self._web_profile_requests_result)\n",
    "\n",
    "                # We now check for requests over the web profile socket, and we\n",
    "                # also update the pop-up in case there are any changes.\n",
    "                try:\n",
    "                    read_ready = select.select([self._web_profile_server.socket], [], [], 0.01)[0]\n",
    "                except OSError as exc:\n",
    "                    warnings.warn(\"Call to select() in SAMPHubServer failed: {0}\".format(exc),\n",
    "                                  SAMPWarning)\n",
    "                else:\n",
    "                    if read_ready:\n",
    "                        self._web_profile_server.handle_request()\n",
    "\n",
    "        self._server.server_close()\n",
    "        if self._web_profile_server is not None:\n",
    "            self._web_profile_server.server_close()"
   ]
  },
  {
   "cell_type": "code",
   "execution_count": 4,
   "metadata": {
    "collapsed": true
   },
   "outputs": [],
   "source": [
    "samp.SAMPHubServer._serve_forever=REPLACE_serve_forever"
   ]
  },
  {
   "cell_type": "code",
   "execution_count": 5,
   "metadata": {
    "collapsed": false
   },
   "outputs": [
    {
     "name": "stdout",
     "output_type": "stream",
     "text": [
      "INFO: Hub set to run with Web Profile support enabled. [astropy.samp.hub]\n",
      "INFO: Hub started [astropy.samp.hub]\n",
      "A Web application which declares to be\n",
      "\n",
      "Name: TAPHandle\n",
      "Origin: http://saada.unistra.fr\n",
      "\n",
      "is requesting to be registered with the SAMP Hub.\n",
      "Pay attention that if you permit its registration, such\n",
      "application will acquire all current user privileges, like\n",
      "file read/write.\n",
      "\n",
      "Do you give your consent? [yes|no]\n",
      ">>> y\n"
     ]
    }
   ],
   "source": [
    "hub=samp.SAMPHubServer()\n",
    "hub.start()"
   ]
  },
  {
   "cell_type": "code",
   "execution_count": 7,
   "metadata": {
    "collapsed": false
   },
   "outputs": [],
   "source": [
    "proxy=samp.SAMPHubProxy()\n",
    "cli=samp.SAMPClient(proxy)"
   ]
  },
  {
   "cell_type": "code",
   "execution_count": 8,
   "metadata": {
    "collapsed": false
   },
   "outputs": [
    {
     "data": {
      "text/plain": [
       "False"
      ]
     },
     "execution_count": 8,
     "metadata": {},
     "output_type": "execute_result"
    }
   ],
   "source": [
    "cli.is_running"
   ]
  },
  {
   "cell_type": "code",
   "execution_count": 12,
   "metadata": {
    "collapsed": false
   },
   "outputs": [
    {
     "ename": "RuntimeError",
     "evalue": "threads can only be started once",
     "output_type": "error",
     "traceback": [
      "\u001b[0;31m---------------------------------------------------------------------------\u001b[0m",
      "\u001b[0;31mRuntimeError\u001b[0m                              Traceback (most recent call last)",
      "\u001b[0;32m<ipython-input-12-0f2d0b80d736>\u001b[0m in \u001b[0;36m<module>\u001b[0;34m()\u001b[0m\n\u001b[0;32m----> 1\u001b[0;31m \u001b[0mcli\u001b[0m\u001b[0;34m.\u001b[0m\u001b[0mstart\u001b[0m\u001b[0;34m(\u001b[0m\u001b[0;34m)\u001b[0m\u001b[0;34m\u001b[0m\u001b[0m\n\u001b[0m",
      "\u001b[0;32m/usr/local/lib/python3.5/dist-packages/astropy/samp/client.py\u001b[0m in \u001b[0;36mstart\u001b[0;34m(self)\u001b[0m\n\u001b[1;32m    135\u001b[0m         \u001b[0;32mif\u001b[0m \u001b[0mself\u001b[0m\u001b[0;34m.\u001b[0m\u001b[0m_callable\u001b[0m\u001b[0;34m:\u001b[0m\u001b[0;34m\u001b[0m\u001b[0m\n\u001b[1;32m    136\u001b[0m             \u001b[0mself\u001b[0m\u001b[0;34m.\u001b[0m\u001b[0m_is_running\u001b[0m \u001b[0;34m=\u001b[0m \u001b[0;32mTrue\u001b[0m\u001b[0;34m\u001b[0m\u001b[0m\n\u001b[0;32m--> 137\u001b[0;31m             \u001b[0mself\u001b[0m\u001b[0;34m.\u001b[0m\u001b[0m_run_client\u001b[0m\u001b[0;34m(\u001b[0m\u001b[0;34m)\u001b[0m\u001b[0;34m\u001b[0m\u001b[0m\n\u001b[0m\u001b[1;32m    138\u001b[0m \u001b[0;34m\u001b[0m\u001b[0m\n\u001b[1;32m    139\u001b[0m     \u001b[0;32mdef\u001b[0m \u001b[0mstop\u001b[0m\u001b[0;34m(\u001b[0m\u001b[0mself\u001b[0m\u001b[0;34m,\u001b[0m \u001b[0mtimeout\u001b[0m\u001b[0;34m=\u001b[0m\u001b[0;36m10.\u001b[0m\u001b[0;34m)\u001b[0m\u001b[0;34m:\u001b[0m\u001b[0;34m\u001b[0m\u001b[0m\n",
      "\u001b[0;32m/usr/local/lib/python3.5/dist-packages/astropy/samp/client.py\u001b[0m in \u001b[0;36m_run_client\u001b[0;34m(self)\u001b[0m\n\u001b[1;32m    173\u001b[0m     \u001b[0;32mdef\u001b[0m \u001b[0m_run_client\u001b[0m\u001b[0;34m(\u001b[0m\u001b[0mself\u001b[0m\u001b[0;34m)\u001b[0m\u001b[0;34m:\u001b[0m\u001b[0;34m\u001b[0m\u001b[0m\n\u001b[1;32m    174\u001b[0m         \u001b[0;32mif\u001b[0m \u001b[0mself\u001b[0m\u001b[0;34m.\u001b[0m\u001b[0m_callable\u001b[0m\u001b[0;34m:\u001b[0m\u001b[0;34m\u001b[0m\u001b[0m\n\u001b[0;32m--> 175\u001b[0;31m             \u001b[0mself\u001b[0m\u001b[0;34m.\u001b[0m\u001b[0m_thread\u001b[0m\u001b[0;34m.\u001b[0m\u001b[0mstart\u001b[0m\u001b[0;34m(\u001b[0m\u001b[0;34m)\u001b[0m\u001b[0;34m\u001b[0m\u001b[0m\n\u001b[0m\u001b[1;32m    176\u001b[0m \u001b[0;34m\u001b[0m\u001b[0m\n\u001b[1;32m    177\u001b[0m     \u001b[0;32mdef\u001b[0m \u001b[0m_serve_forever\u001b[0m\u001b[0;34m(\u001b[0m\u001b[0mself\u001b[0m\u001b[0;34m)\u001b[0m\u001b[0;34m:\u001b[0m\u001b[0;34m\u001b[0m\u001b[0m\n",
      "\u001b[0;32m/home/mminin/anaconda3/lib/python3.5/threading.py\u001b[0m in \u001b[0;36mstart\u001b[0;34m(self)\u001b[0m\n\u001b[1;32m    838\u001b[0m \u001b[0;34m\u001b[0m\u001b[0m\n\u001b[1;32m    839\u001b[0m         \u001b[0;32mif\u001b[0m \u001b[0mself\u001b[0m\u001b[0;34m.\u001b[0m\u001b[0m_started\u001b[0m\u001b[0;34m.\u001b[0m\u001b[0mis_set\u001b[0m\u001b[0;34m(\u001b[0m\u001b[0;34m)\u001b[0m\u001b[0;34m:\u001b[0m\u001b[0;34m\u001b[0m\u001b[0m\n\u001b[0;32m--> 840\u001b[0;31m             \u001b[0;32mraise\u001b[0m \u001b[0mRuntimeError\u001b[0m\u001b[0;34m(\u001b[0m\u001b[0;34m\"threads can only be started once\"\u001b[0m\u001b[0;34m)\u001b[0m\u001b[0;34m\u001b[0m\u001b[0m\n\u001b[0m\u001b[1;32m    841\u001b[0m         \u001b[0;32mwith\u001b[0m \u001b[0m_active_limbo_lock\u001b[0m\u001b[0;34m:\u001b[0m\u001b[0;34m\u001b[0m\u001b[0m\n\u001b[1;32m    842\u001b[0m             \u001b[0m_limbo\u001b[0m\u001b[0;34m[\u001b[0m\u001b[0mself\u001b[0m\u001b[0;34m]\u001b[0m \u001b[0;34m=\u001b[0m \u001b[0mself\u001b[0m\u001b[0;34m\u001b[0m\u001b[0m\n",
      "\u001b[0;31mRuntimeError\u001b[0m: threads can only be started once"
     ]
    }
   ],
   "source": [
    "cli.start()"
   ]
  },
  {
   "cell_type": "code",
   "execution_count": 11,
   "metadata": {
    "collapsed": true
   },
   "outputs": [],
   "source": [
    "proxy.connect()"
   ]
  },
  {
   "cell_type": "code",
   "execution_count": 13,
   "metadata": {
    "collapsed": false
   },
   "outputs": [],
   "source": [
    "cli.register()"
   ]
  },
  {
   "cell_type": "code",
   "execution_count": 16,
   "metadata": {
    "collapsed": false
   },
   "outputs": [
    {
     "data": {
      "text/plain": [
       "True"
      ]
     },
     "execution_count": 16,
     "metadata": {},
     "output_type": "execute_result"
    }
   ],
   "source": [
    "cli.is_registered"
   ]
  },
  {
   "cell_type": "code",
   "execution_count": 17,
   "metadata": {
    "collapsed": false
   },
   "outputs": [
    {
     "data": {
      "text/plain": [
       "True"
      ]
     },
     "execution_count": 17,
     "metadata": {},
     "output_type": "execute_result"
    }
   ],
   "source": [
    "cli.is_running"
   ]
  },
  {
   "cell_type": "code",
   "execution_count": null,
   "metadata": {
    "collapsed": true
   },
   "outputs": [],
   "source": [
    "cli.bind_receive_call"
   ]
  },
  {
   "cell_type": "code",
   "execution_count": 26,
   "metadata": {
    "collapsed": true
   },
   "outputs": [],
   "source": [
    "class Receiver(object):\n",
    "    def __init__(self, client):\n",
    "        self.client = client\n",
    "        self.received = False\n",
    "    def receive_call(self, private_key, sender_id, msg_id, mtype, params, extra):\n",
    "        self.params = params\n",
    "        self.mtype = mtype\n",
    "        self.received = True\n",
    "        self.client.reply(msg_id, {\"samp.status\": \"samp.ok\", \"samp.result\": {}})\n",
    "        print(\"call received\")\n",
    "    def receive_notification(self, private_key, sender_id, mtype, params, extra):\n",
    "        self.mtype = mtype\n",
    "        self.params = params\n",
    "        self.received = True\n",
    "        print(\"notification received\")"
   ]
  },
  {
   "cell_type": "code",
   "execution_count": 27,
   "metadata": {
    "collapsed": false
   },
   "outputs": [],
   "source": [
    "r=Receiver(cli)"
   ]
  },
  {
   "cell_type": "code",
   "execution_count": 28,
   "metadata": {
    "collapsed": true
   },
   "outputs": [],
   "source": [
    "def bindSamp(MType):\n",
    "    global r\n",
    "    cli.bind_receive_call(         MType, r.receive_call         )\n",
    "    cli.bind_receive_notification( MType, r.receive_notification )"
   ]
  },
  {
   "cell_type": "code",
   "execution_count": 29,
   "metadata": {
    "collapsed": false
   },
   "outputs": [
    {
     "name": "stdout",
     "output_type": "stream",
     "text": [
      "notification received\n"
     ]
    }
   ],
   "source": [
    "bindSamp('qgis.message')\n",
    "bindSamp('table.load.votable')"
   ]
  },
  {
   "cell_type": "code",
   "execution_count": 31,
   "metadata": {
    "collapsed": false
   },
   "outputs": [
    {
     "data": {
      "text/plain": [
       "{'name': 'http://saada.unistra.fr/taphandle/jobresult?NODE=jacobsuni-tap&JOBID=m_pgji&jsessionid=63DAFBCE51DE67B79044221FA8393B1E',\n",
       " 'table-id': 'http://saada.unistra.fr/taphandle/jobresult?NODE=jacobsuni-tap&JOBID=m_pgji&jsessionid=63DAFBCE51DE67B79044221FA8393B1E',\n",
       " 'url': 'http://saada.unistra.fr/taphandle/jobresult?NODE=jacobsuni-tap&JOBID=m_pgji&jsessionid=63DAFBCE51DE67B79044221FA8393B1E'}"
      ]
     },
     "execution_count": 31,
     "metadata": {},
     "output_type": "execute_result"
    }
   ],
   "source": [
    "r.params"
   ]
  },
  {
   "cell_type": "raw",
   "metadata": {},
   "source": []
  },
  {
   "cell_type": "code",
   "execution_count": 32,
   "metadata": {
    "collapsed": false
   },
   "outputs": [
    {
     "data": {
      "text/plain": [
       "'table.load.votable'"
      ]
     },
     "execution_count": 32,
     "metadata": {},
     "output_type": "execute_result"
    }
   ],
   "source": [
    "r.mtype"
   ]
  },
  {
   "cell_type": "code",
   "execution_count": 34,
   "metadata": {
    "collapsed": false
   },
   "outputs": [
    {
     "data": {
      "text/plain": [
       "'http://saada.unistra.fr/taphandle/jobresult?NODE=jacobsuni-tap&JOBID=m_pgji&jsessionid=63DAFBCE51DE67B79044221FA8393B1E'"
      ]
     },
     "execution_count": 34,
     "metadata": {},
     "output_type": "execute_result"
    }
   ],
   "source": [
    "r.params['url']"
   ]
  },
  {
   "cell_type": "code",
   "execution_count": 43,
   "metadata": {
    "collapsed": true
   },
   "outputs": [],
   "source": [
    "import urllib\n",
    "from astropy.utils.data import download_file # fixes timeout bug\n",
    "from astropy.table import Table"
   ]
  },
  {
   "cell_type": "code",
   "execution_count": 46,
   "metadata": {
    "collapsed": false
   },
   "outputs": [
    {
     "name": "stdout",
     "output_type": "stream",
     "text": [
      "Downloading http://saada.unistra.fr/taphandle/jobresult?NODE=jacobsuni-tap&JOBID=m_pgji&jsessionid=63DAFBCE51DE67B79044221FA8393B1E [Done]\n"
     ]
    },
    {
     "name": "stderr",
     "output_type": "stream",
     "text": [
      "WARNING: W27: None:34:641: W27: COOSYS deprecated in VOTable 1.2 [astropy.io.votable.tree]\n",
      "WARNING: E16: None:34:641: E16: Invalid system attribute 'UNKNOWNFrame' [astropy.io.votable.tree]\n",
      "WARNING: W48: None:111:1050: W48: Unknown attribute 'value' on OPTION [astropy.io.votable.tree]\n",
      "WARNING: W48: None:111:1080: W48: Unknown attribute 'value' on OPTION [astropy.io.votable.tree]\n",
      "WARNING: W48: None:111:1110: W48: Unknown attribute 'value' on OPTION [astropy.io.votable.tree]\n",
      "WARNING: W48: None:111:1140: W48: Unknown attribute 'value' on OPTION [astropy.io.votable.tree]\n",
      "WARNING: W48: None:111:1170: W48: Unknown attribute 'value' on OPTION [astropy.io.votable.tree]\n",
      "WARNING: W48: None:111:1200: W48: Unknown attribute 'value' on OPTION [astropy.io.votable.tree]\n",
      "WARNING: W48: None:111:1230: W48: Unknown attribute 'value' on OPTION [astropy.io.votable.tree]\n",
      "WARNING: W48: None:111:1260: W48: Unknown attribute 'value' on OPTION [astropy.io.votable.tree]\n",
      "WARNING: W48: None:111:1290: W48: Unknown attribute 'value' on OPTION [astropy.io.votable.tree]\n",
      "WARNING: W48: None:111:1320: W48: Unknown attribute 'value' on OPTION (suppressing further warnings of this type...) [astropy.io.votable.tree]\n",
      "WARNING: W06: None:111:4134: W06: Invalid UCD 'em.freq.step;stat.min': Unknown word 'em.freq.step' [astropy.io.votable.tree]\n",
      "WARNING: W06: None:111:4382: W06: Invalid UCD 'em.freq.step;stat.max': Unknown word 'em.freq.step' [astropy.io.votable.tree]\n",
      "WARNING: W06: None:111:6289: W06: Invalid UCD 'phys.outline;obs.field': Unknown word 'phys.outline' [astropy.io.votable.tree]\n",
      "WARNING: W06: None:111:6517: W06: Invalid UCD 'pos.resolution;stat.min': Unknown word 'pos.resolution' [astropy.io.votable.tree]\n",
      "WARNING: W06: None:111:6756: W06: Invalid UCD 'pos.resolution;stat.max': Unknown word 'pos.resolution' [astropy.io.votable.tree]\n",
      "WARNING: W06: None:111:6994: W06: Invalid UCD 'pos.resolution;stat.min': Unknown word 'pos.resolution' [astropy.io.votable.tree]\n",
      "WARNING: W06: None:111:7234: W06: Invalid UCD 'pos.resolution;stat.max': Unknown word 'pos.resolution' [astropy.io.votable.tree]\n",
      "WARNING: W06: None:111:7473: W06: Invalid UCD 'pos.resolution;stat.min': Unknown word 'pos.resolution' [astropy.io.votable.tree]\n",
      "WARNING: W06: None:111:7710: W06: Invalid UCD 'pos.resolution;stat.max': Unknown word 'pos.resolution' [astropy.io.votable.tree]\n",
      "WARNING: W06: None:111:11071: W06: Invalid UCD 'time.update': Unknown word 'time.update' (suppressing further warnings of this type...) [astropy.io.votable.tree]\n"
     ]
    }
   ],
   "source": [
    "#f = urllib.request.urlopen(r.params['url'])\n",
    "#myfile = f.read()  \n",
    "vot = Table.read(download_file(r.params['url'],timeout=200))\n",
    "#print(myfile)"
   ]
  },
  {
   "cell_type": "code",
   "execution_count": 47,
   "metadata": {
    "collapsed": false
   },
   "outputs": [
    {
     "data": {
      "text/html": [
       "<i>Row index=1 masked=True</i>\n",
       "<table id=\"table140690545217488\">\n",
       "<thead><tr><th>granule_uid</th><th>granule_gid</th><th>obs_id</th><th>dataproduct_type</th><th>target_name</th><th>target_class</th><th>time_min</th><th>time_max</th><th>time_sampling_step_min</th><th>time_sampling_step_max</th><th>time_exp_min</th><th>time_exp_max</th><th>spectral_range_min</th><th>spectral_range_max</th><th>spectral_sampling_step_min</th><th>spectral_sampling_step_max</th><th>spectral_resolution_min</th><th>spectral_resolution_max</th><th>c1min</th><th>c1max</th><th>c2min</th><th>c2max</th><th>c3min</th><th>c3max</th><th>s_region</th><th>c1_resol_min</th><th>c1_resol_max</th><th>c2_resol_min</th><th>c2_resol_max</th><th>c3_resol_min</th><th>c3_resol_max</th><th>spatial_frame_type</th><th>incidence_min</th><th>incidence_max</th><th>emergence_min</th><th>emergence_max</th><th>phase_min</th><th>phase_max</th><th>instrument_host_name</th><th>instrument_name</th><th>measurement_type</th><th>processing_level</th><th>creation_date</th><th>modification_date</th><th>release_date</th><th>service_title</th><th>access_url</th><th>access_format</th><th>access_estsize</th><th>thumbnail_url</th><th>bib_reference</th><th>solar_longitude_min</th><th>solar_longitude_max</th><th>sensor_id</th><th>image_width</th><th>image_height</th><th>external_link</th><th>spatial_coordinate_description</th><th>wavelengths</th></tr></thead>\n",
       "<thead><tr><th></th><th></th><th></th><th></th><th></th><th></th><th>d</th><th>d</th><th>s</th><th>s</th><th>s</th><th>s</th><th>Hz</th><th>Hz</th><th>Hz</th><th>Hz</th><th>Hz</th><th>Hz</th><th>deg</th><th>deg</th><th>deg</th><th>deg</th><th>m</th><th>m</th><th></th><th>deg</th><th>deg</th><th>deg</th><th>deg</th><th>m</th><th>m</th><th></th><th>deg</th><th>deg</th><th>deg</th><th>deg</th><th>deg</th><th>deg</th><th></th><th></th><th></th><th></th><th></th><th></th><th></th><th></th><th></th><th></th><th>kbyte</th><th></th><th></th><th>deg</th><th>deg</th><th></th><th>pix</th><th>pix</th><th></th><th></th><th>nm</th></tr></thead>\n",
       "<thead><tr><th>object</th><th>object</th><th>object</th><th>object</th><th>object</th><th>object</th><th>float64</th><th>float64</th><th>float64</th><th>float64</th><th>float64</th><th>float64</th><th>float64</th><th>float64</th><th>float64</th><th>float64</th><th>float64</th><th>float64</th><th>float64</th><th>float64</th><th>float64</th><th>float64</th><th>float64</th><th>float64</th><th>object</th><th>float64</th><th>float64</th><th>float64</th><th>float64</th><th>float64</th><th>float64</th><th>object</th><th>float64</th><th>float64</th><th>float64</th><th>float64</th><th>float64</th><th>float64</th><th>object</th><th>object</th><th>object</th><th>int32</th><th>object</th><th>object</th><th>object</th><th>object</th><th>object</th><th>object</th><th>int32</th><th>object</th><th>object</th><th>float64</th><th>float64</th><th>object</th><th>int32</th><th>int32</th><th>object</th><th>object</th><th>object</th></tr></thead>\n",
       "<tr><td>FRT00008306_07_IF163L_TRR3</td><td>FRT</td><td>00008306</td><td>sc</td><td>Mars</td><td>planet</td><td>2454387.15795</td><td>2454387.15915</td><td>--</td><td>--</td><td>--</td><td>--</td><td>76151305120910.4</td><td>299403233796065.0</td><td>126910768664.078</td><td>1945816521669.06</td><td>290151792525.314</td><td>2990145149266.6</td><td>323.008</td><td>323.261</td><td>-34.646</td><td>-34.492</td><td>--</td><td>--</td><td>Polygon UNKNOWNFrame 323.261 -34.629 323.141 -34.635 323.081 -34.641 323.022 -34.646 323.032 -34.612 323.036 -34.592 323.027 -34.566 323.008 -34.526 323.069 -34.516 323.189 -34.498 323.249 -34.492 323.239 -34.546 323.236 -34.573 323.243 -34.596</td><td>0.000335543766578306</td><td>0.000335543766578306</td><td>0.000333333333333341</td><td>0.000333333333333341</td><td>--</td><td>--</td><td>body</td><td>330.134752</td><td>330.134752</td><td>1.98791170120239</td><td>1.98791170120239</td><td>39.3845405578613</td><td>39.3845405578613</td><td>MRO</td><td>CRISM</td><td>phys.luminosity;phys.angArea;em.wl</td><td>3</td><td>2016-01-01T00:00:00</td><td>2018-02-08T00:00:00</td><td>2016-01-01T00:00:00</td><td>CRISM</td><td>http://access.planetserver.eu/rasdaman/ows?&amp;SERVICE=WCS&amp;VERSION=2.0.1&amp;REQUEST=GetCoverage&amp;COVERAGEID=frt00008306_07_if163l_trr3&amp;FORMAT=image/tiff</td><td>application/x-geotiff</td><td>614485</td><td>http://access.planetserver.eu/rasdaman/ows?service=WCS&amp;version=2.0.1&amp;request=ProcessCoverages&amp;query=for%20data%20in%20%28%20frt00008306_07_if163l_trr3%20%29%20return%20encode(%20{%20red:%20(int)((int)(255%20/%20(max(%20data.band_233)%20-%20min(data.band_233)))%20*%20(data.band_233%20-%20min(data.band_233)));%20green:%20(int)((int)(255%20/%20(max(%20data.band_78)%20-%20min(data.band_78)))%20*%20(data.band_78%20-%20min(data.band_78)));%20blue:%20(int)((int)(255%20/%20(max(%20data.band_13)%20-%20min(data.band_13)))%20*%20(data.band_13%20-%20min(data.band_13)))%20;%20alpha:%20(int)((data.band_100%20%3E%200)%20*%20255)},%20%22png%22,%20%22nodata=65535%22)</td><td>10.1029/2006JE002682</td><td>330.134752</td><td>330.134752</td><td>L</td><td>754</td><td>462</td><td>http://aux1.epn-vespa.jacobs-university.de/subGranule3/index.html?callback=frt00008306_07_if163l_trr3</td><td>+proj=eqc +lat_ts=0 +lat_0=0 +lon_0=0 +x_0=0 +y_0=0 +a=3396190 +b=3396190 +units=m +no_defs</td><td>1.00135;1.0079;1.01445;1.021;1.02755;1.0341;1.04065;1.0472;1.05375;1.0603;1.06685;1.07341;1.07996;1.08651;1.09307;1.09962;1.10617;1.11273;1.11928;1.12584;1.13239;1.13895;1.14551;1.15206;1.15862;1.16518;1.17173;1.17829;1.18485;1.19141;1.19797;1.20453;1.21109;1.21765;1.22421;1.23077;1.23733;1.24389;1.25045;1.25701;1.26357;1.27014;1.2767;1.28326;1.28983;1.29639;1.30295;1.30952;1.31608;1.32265;1.32921;1.33578;1.34234;1.34891;1.35548;1.36205;1.36861;1.37518;1.38175;1.38832;1.39489;1.40145;1.40802;1.41459;1.42116;1.42773;1.43431;1.44088;1.44745;1.45402;1.46059;1.46716;1.47374;1.48031;1.48688;1.49346;1.50003;1.50661;1.51318;1.51976;1.52633;1.53291;1.53948;1.54606;1.55264;1.55921;1.56579;1.57237;1.57895;1.58552;1.5921;1.59868;1.60526;1.61184;1.61842;1.625;1.63158;1.63816;1.64474;1.65133;1.65791;1.66449;1.67107;1.67766;1.68424;1.69082;1.69741;1.70399;1.71058;1.71716;1.72375;1.73033;1.73692;1.74351;1.75009;1.75668;1.76327;1.76985;1.77644;1.78303;1.78962;1.79621;1.8028;1.80939;1.81598;1.82257;1.82916;1.83575;1.84234;1.84893;1.85552;1.86212;1.86871;1.8753;1.8819;1.88849;1.89508;1.90168;1.90827;1.91487;1.92146;1.92806;1.93465;1.94125;1.94785;1.95444;1.96104;1.96764;1.97424;1.98084;1.98743;1.99403;2.00063;2.00723;2.01383;2.02043;2.02703;2.03363;2.04024;2.04684;2.05344;2.06004;2.06664;2.07325;2.07985;2.08645;2.09306;2.09966;2.10627;2.11287;2.11948;2.12608;2.13269;2.1393;2.1459;2.15251;2.15912;2.16572;2.17233;2.17894;2.18555;2.19216;2.19877;2.20538;2.21199;2.2186;2.22521;2.23182;2.23843;2.24504;2.25165;2.25827;2.26488;2.27149;2.2781;2.28472;2.29133;2.29795;2.30456;2.31118;2.31779;2.32441;2.33102;2.33764;2.34426;2.35087;2.35749;2.36411;2.37072;2.37734;2.38396;2.39058;2.3972;2.40382;2.41044;2.41706;2.42368;2.4303;2.43692;2.44354;2.45017;2.45679;2.46341;2.47003;2.47666;2.48328;2.4899;2.49653;2.50312;2.50972;2.51632;2.52292;2.52951;2.53611;2.54271;2.54931;2.55591;2.56251;2.56911;2.57571;2.58231;2.58891;2.59551;2.60212;2.60872;2.61532;2.62192;2.62853;2.63513;2.64174;2.64834;2.65495;2.66155;2.66816;2.67476;2.68137;2.68798;2.69458;2.70119;2.76068;2.76729;2.7739;2.78052;2.78713;2.79374;2.80035;2.80697;2.81358;2.8202;2.82681;2.83343;2.84004;2.84666;2.85328;2.85989;2.86651;2.87313;2.87975;2.88636;2.89298;2.8996;2.90622;2.91284;2.91946;2.92608;2.9327;2.93932;2.94595;2.95257;2.95919;2.96581;2.97244;2.97906;2.98568;2.99231;2.99893;3.00556;3.01218;3.01881;3.02544;3.03206;3.03869;3.04532;3.05195;3.05857;3.0652;3.07183;3.07846;3.08509;3.09172;3.09835;3.10498;3.11161;3.11825;3.12488;3.13151;3.13814;3.14478;3.15141;3.15804;3.16468;3.17131;3.17795;3.18458;3.19122;3.19785;3.20449;3.21113;3.21776;3.2244;3.23104;3.23768;3.24432;3.25096;3.2576;3.26424;3.27088;3.27752;3.28416;3.2908;3.29744;3.30408;3.31073;3.31737;3.32401;3.33066;3.3373;3.34395;3.35059;3.35724;3.36388;3.37053;3.37717;3.38382;3.39047;3.39712;3.40376;3.41041;3.41706;3.42371;3.43036;3.43701;3.44366;3.45031;3.45696;3.46361;3.47026;3.47692;3.48357;3.49022;3.49687;3.50353;3.51018;3.51684;3.52349;3.53015;3.5368;3.54346;3.55011;3.55677;3.56343;3.57008;3.57674;3.5834;3.59006;3.59672;3.60338;3.61004;3.6167;3.62336;3.63002;3.63668;3.64334;3.65;3.65667;3.66333;3.66999;3.67665;3.68332;3.68998;3.69665;3.70331;3.70998;3.71664;3.72331;3.72998;3.73664;3.74331;3.74998;3.75665;3.76331;3.76998;3.77665;3.78332;3.78999;3.79666;3.80333;3.81;3.81667;3.82335;3.83002;3.83669;3.84336;3.85004;3.85671;3.86339;3.87006;3.87673;3.88341;3.89008;3.89676;3.90344;3.91011;3.91679;3.92347;3.93015;3.93682;4</td></tr>\n",
       "</table>"
      ],
      "text/plain": [
       "<Row index=1 masked=True>\n",
       "       granule_uid         granule_gid  obs_id  dataproduct_type target_name target_class    time_min      time_max   time_sampling_step_min time_sampling_step_max time_exp_min time_exp_max spectral_range_min spectral_range_max spectral_sampling_step_min spectral_sampling_step_max spectral_resolution_min spectral_resolution_max  c1min   c1max   c2min   c2max   c3min   c3max                                                                                                                        s_region                                                                                                                           c1_resol_min         c1_resol_max         c2_resol_min         c2_resol_max     c3_resol_min c3_resol_max spatial_frame_type incidence_min incidence_max  emergence_min    emergence_max      phase_min        phase_max     instrument_host_name instrument_name          measurement_type          processing_level    creation_date     modification_date      release_date    service_title                                                                     access_url                                                                        access_format     access_estsize                                                                                                                                                                                                                                                                                                                                   thumbnail_url                                                                                                                                                                                                                                                                                                                                       bib_reference     solar_longitude_min solar_longitude_max sensor_id image_width image_height                                             external_link                                                                            spatial_coordinate_description                                                                                                                                                                                                                                                                                                                                                                                                                                                                                                                                                                                                                                                                                                                                                                                                                                                                                                                                                                                                                                                                                                                                                                                                                                                                                                                                                                                                                                                                                                                                                                                                                                                                                                                                                                                                                            wavelengths                                                                                                                                                                                                                                                                                                                                                                                                                                                                                                                                                                                                                                                                                                                                                                                                                                                                                                                                                                                                                                                                                                                                                                                                                                                                                                                                                                                                                                                                                                                                                                                                                                                                                                                                                                                            \n",
       "                                                                                                d             d                 s                      s                 s            s               Hz                 Hz                     Hz                         Hz                        Hz                      Hz             deg     deg     deg     deg      m       m                                                                                                                                                                                                                                                                 deg                  deg                  deg                  deg               m            m                               deg           deg            deg              deg              deg              deg                                                                                                                                                                                                                                                                                                                                                       kbyte                                                                                                                                                                                                                                                                                                                                                                                                                                                                                                                                                                                                                                                                                                                      deg                 deg                       pix         pix                                                                                                                                                                                                                                                                                                                                                                                                                                                                                                                                                                                                                                                                                                                                                                                                                                                                                                                                                                                                                                                                                                                                                                                                                                                                                                                                                                                                                                                                                                                                                                                                                                                                                                                                                                                                                                                                                                                                                                                                          nm                                                                                                                                                                                                                                                                                                                                                                                                                                                                                                                                                                                                                                                                                                                                                                                                                                                                                                                                                                                                                                                                                                                                                                                                                                                                                                                                                                                                                                                                                                                                                                                                                                                                                                                                                                                                \n",
       "          object              object    object       object         object      object       float64       float64           float64                float64           float64      float64         float64            float64                float64                    float64                   float64                 float64         float64 float64 float64 float64 float64 float64                                                                                                                        object                                                                                                                              float64              float64              float64              float64          float64      float64          object          float64       float64        float64          float64          float64          float64             object             object                   object                    int32              object              object              object           object                                                                          object                                                                              object            int32                                                                                                                                                                                                                                                                                                                                            object                                                                                                                                                                                                                                                                                                                                              object              float64             float64         object     int32       int32                                                     object                                                                                           object                                                                                                                                                                                                                                                                                                                                                                                                                                                                                                                                                                                                                                                                                                                                                                                                                                                                                                                                                                                                                                                                                                                                                                                                                                                                                                                                                                                                                                                                                                                                                                                                                                                                                                                                                                                                                                           object                                                                                                                                                                                                                                                                                                                                                                                                                                                                                                                                                                                                                                                                                                                                                                                                                                                                                                                                                                                                                                                                                                                                                                                                                                                                                                                                                                                                                                                                                                                                                                                                                                                                                                                                                                                              \n",
       "-------------------------- ----------- -------- ---------------- ----------- ------------ ------------- ------------- ---------------------- ---------------------- ------------ ------------ ------------------ ------------------ -------------------------- -------------------------- ----------------------- ----------------------- ------- ------- ------- ------- ------- ------- ---------------------------------------------------------------------------------------------------------------------------------------------------------------------------------------------------------------------------------------------------- -------------------- -------------------- -------------------- -------------------- ------------ ------------ ------------------ ------------- ------------- ---------------- ---------------- ---------------- ---------------- -------------------- --------------- ---------------------------------- ---------------- ------------------- ------------------- ------------------- ------------- ------------------------------------------------------------------------------------------------------------------------------------------------- --------------------- -------------- ---------------------------------------------------------------------------------------------------------------------------------------------------------------------------------------------------------------------------------------------------------------------------------------------------------------------------------------------------------------------------------------------------------------------------------------------------------------------------------------------------------------------------------------------------------------------------------------------------------------------------------------------------------------------------------- -------------------- ------------------- ------------------- --------- ----------- ------------ ----------------------------------------------------------------------------------------------------- -------------------------------------------------------------------------------------------- ---------------------------------------------------------------------------------------------------------------------------------------------------------------------------------------------------------------------------------------------------------------------------------------------------------------------------------------------------------------------------------------------------------------------------------------------------------------------------------------------------------------------------------------------------------------------------------------------------------------------------------------------------------------------------------------------------------------------------------------------------------------------------------------------------------------------------------------------------------------------------------------------------------------------------------------------------------------------------------------------------------------------------------------------------------------------------------------------------------------------------------------------------------------------------------------------------------------------------------------------------------------------------------------------------------------------------------------------------------------------------------------------------------------------------------------------------------------------------------------------------------------------------------------------------------------------------------------------------------------------------------------------------------------------------------------------------------------------------------------------------------------------------------------------------------------------------------------------------------------------------------------------------------------------------------------------------------------------------------------------------------------------------------------------------------------------------------------------------------------------------------------------------------------------------------------------------------------------------------------------------------------------------------------------------------------------------------------------------------------------------------------------------------------------------------------------------------------------------------------------------------------------------------------------------------------------------------------------------------------------------------------------------------------------------------------------------------------------------------------------------------------------------------------------------------------------------------------------------------------------------------------------------------------------------------------------------------------------------------------------------------------------------------------------------------------------------------------------------------------------------------------------------------------------------------------------------------------------------------------------------------------------------------------------------------------------------------------------------------------------------------------------------------------------------------------------------------------------------------------------------------------------------------------------------------------------------------------------------\n",
       "FRT00008306_07_IF163L_TRR3         FRT 00008306               sc        Mars       planet 2454387.15795 2454387.15915                     --                     --           --           --   76151305120910.4  299403233796065.0           126910768664.078           1945816521669.06        290151792525.314         2990145149266.6 323.008 323.261 -34.646 -34.492      --      -- Polygon UNKNOWNFrame 323.261 -34.629 323.141 -34.635 323.081 -34.641 323.022 -34.646 323.032 -34.612 323.036 -34.592 323.027 -34.566 323.008 -34.526 323.069 -34.516 323.189 -34.498 323.249 -34.492 323.239 -34.546 323.236 -34.573 323.243 -34.596 0.000335543766578306 0.000335543766578306 0.000333333333333341 0.000333333333333341           --           --               body    330.134752    330.134752 1.98791170120239 1.98791170120239 39.3845405578613 39.3845405578613                  MRO           CRISM phys.luminosity;phys.angArea;em.wl                3 2016-01-01T00:00:00 2018-02-08T00:00:00 2016-01-01T00:00:00         CRISM http://access.planetserver.eu/rasdaman/ows?&SERVICE=WCS&VERSION=2.0.1&REQUEST=GetCoverage&COVERAGEID=frt00008306_07_if163l_trr3&FORMAT=image/tiff application/x-geotiff         614485 http://access.planetserver.eu/rasdaman/ows?service=WCS&version=2.0.1&request=ProcessCoverages&query=for%20data%20in%20%28%20frt00008306_07_if163l_trr3%20%29%20return%20encode(%20{%20red:%20(int)((int)(255%20/%20(max(%20data.band_233)%20-%20min(data.band_233)))%20*%20(data.band_233%20-%20min(data.band_233)));%20green:%20(int)((int)(255%20/%20(max(%20data.band_78)%20-%20min(data.band_78)))%20*%20(data.band_78%20-%20min(data.band_78)));%20blue:%20(int)((int)(255%20/%20(max(%20data.band_13)%20-%20min(data.band_13)))%20*%20(data.band_13%20-%20min(data.band_13)))%20;%20alpha:%20(int)((data.band_100%20%3E%200)%20*%20255)},%20%22png%22,%20%22nodata=65535%22) 10.1029/2006JE002682          330.134752          330.134752         L         754          462 http://aux1.epn-vespa.jacobs-university.de/subGranule3/index.html?callback=frt00008306_07_if163l_trr3 +proj=eqc +lat_ts=0 +lat_0=0 +lon_0=0 +x_0=0 +y_0=0 +a=3396190 +b=3396190 +units=m +no_defs  1.00135;1.0079;1.01445;1.021;1.02755;1.0341;1.04065;1.0472;1.05375;1.0603;1.06685;1.07341;1.07996;1.08651;1.09307;1.09962;1.10617;1.11273;1.11928;1.12584;1.13239;1.13895;1.14551;1.15206;1.15862;1.16518;1.17173;1.17829;1.18485;1.19141;1.19797;1.20453;1.21109;1.21765;1.22421;1.23077;1.23733;1.24389;1.25045;1.25701;1.26357;1.27014;1.2767;1.28326;1.28983;1.29639;1.30295;1.30952;1.31608;1.32265;1.32921;1.33578;1.34234;1.34891;1.35548;1.36205;1.36861;1.37518;1.38175;1.38832;1.39489;1.40145;1.40802;1.41459;1.42116;1.42773;1.43431;1.44088;1.44745;1.45402;1.46059;1.46716;1.47374;1.48031;1.48688;1.49346;1.50003;1.50661;1.51318;1.51976;1.52633;1.53291;1.53948;1.54606;1.55264;1.55921;1.56579;1.57237;1.57895;1.58552;1.5921;1.59868;1.60526;1.61184;1.61842;1.625;1.63158;1.63816;1.64474;1.65133;1.65791;1.66449;1.67107;1.67766;1.68424;1.69082;1.69741;1.70399;1.71058;1.71716;1.72375;1.73033;1.73692;1.74351;1.75009;1.75668;1.76327;1.76985;1.77644;1.78303;1.78962;1.79621;1.8028;1.80939;1.81598;1.82257;1.82916;1.83575;1.84234;1.84893;1.85552;1.86212;1.86871;1.8753;1.8819;1.88849;1.89508;1.90168;1.90827;1.91487;1.92146;1.92806;1.93465;1.94125;1.94785;1.95444;1.96104;1.96764;1.97424;1.98084;1.98743;1.99403;2.00063;2.00723;2.01383;2.02043;2.02703;2.03363;2.04024;2.04684;2.05344;2.06004;2.06664;2.07325;2.07985;2.08645;2.09306;2.09966;2.10627;2.11287;2.11948;2.12608;2.13269;2.1393;2.1459;2.15251;2.15912;2.16572;2.17233;2.17894;2.18555;2.19216;2.19877;2.20538;2.21199;2.2186;2.22521;2.23182;2.23843;2.24504;2.25165;2.25827;2.26488;2.27149;2.2781;2.28472;2.29133;2.29795;2.30456;2.31118;2.31779;2.32441;2.33102;2.33764;2.34426;2.35087;2.35749;2.36411;2.37072;2.37734;2.38396;2.39058;2.3972;2.40382;2.41044;2.41706;2.42368;2.4303;2.43692;2.44354;2.45017;2.45679;2.46341;2.47003;2.47666;2.48328;2.4899;2.49653;2.50312;2.50972;2.51632;2.52292;2.52951;2.53611;2.54271;2.54931;2.55591;2.56251;2.56911;2.57571;2.58231;2.58891;2.59551;2.60212;2.60872;2.61532;2.62192;2.62853;2.63513;2.64174;2.64834;2.65495;2.66155;2.66816;2.67476;2.68137;2.68798;2.69458;2.70119;2.76068;2.76729;2.7739;2.78052;2.78713;2.79374;2.80035;2.80697;2.81358;2.8202;2.82681;2.83343;2.84004;2.84666;2.85328;2.85989;2.86651;2.87313;2.87975;2.88636;2.89298;2.8996;2.90622;2.91284;2.91946;2.92608;2.9327;2.93932;2.94595;2.95257;2.95919;2.96581;2.97244;2.97906;2.98568;2.99231;2.99893;3.00556;3.01218;3.01881;3.02544;3.03206;3.03869;3.04532;3.05195;3.05857;3.0652;3.07183;3.07846;3.08509;3.09172;3.09835;3.10498;3.11161;3.11825;3.12488;3.13151;3.13814;3.14478;3.15141;3.15804;3.16468;3.17131;3.17795;3.18458;3.19122;3.19785;3.20449;3.21113;3.21776;3.2244;3.23104;3.23768;3.24432;3.25096;3.2576;3.26424;3.27088;3.27752;3.28416;3.2908;3.29744;3.30408;3.31073;3.31737;3.32401;3.33066;3.3373;3.34395;3.35059;3.35724;3.36388;3.37053;3.37717;3.38382;3.39047;3.39712;3.40376;3.41041;3.41706;3.42371;3.43036;3.43701;3.44366;3.45031;3.45696;3.46361;3.47026;3.47692;3.48357;3.49022;3.49687;3.50353;3.51018;3.51684;3.52349;3.53015;3.5368;3.54346;3.55011;3.55677;3.56343;3.57008;3.57674;3.5834;3.59006;3.59672;3.60338;3.61004;3.6167;3.62336;3.63002;3.63668;3.64334;3.65;3.65667;3.66333;3.66999;3.67665;3.68332;3.68998;3.69665;3.70331;3.70998;3.71664;3.72331;3.72998;3.73664;3.74331;3.74998;3.75665;3.76331;3.76998;3.77665;3.78332;3.78999;3.79666;3.80333;3.81;3.81667;3.82335;3.83002;3.83669;3.84336;3.85004;3.85671;3.86339;3.87006;3.87673;3.88341;3.89008;3.89676;3.90344;3.91011;3.91679;3.92347;3.93015;3.93682;4"
      ]
     },
     "execution_count": 47,
     "metadata": {},
     "output_type": "execute_result"
    }
   ],
   "source": [
    "vot[1]"
   ]
  },
  {
   "cell_type": "code",
   "execution_count": null,
   "metadata": {
    "collapsed": true
   },
   "outputs": [],
   "source": []
  }
 ],
 "metadata": {
  "anaconda-cloud": {},
  "kernelspec": {
   "display_name": "Python [default]",
   "language": "python",
   "name": "python3"
  },
  "language_info": {
   "codemirror_mode": {
    "name": "ipython",
    "version": 3
   },
   "file_extension": ".py",
   "mimetype": "text/x-python",
   "name": "python",
   "nbconvert_exporter": "python",
   "pygments_lexer": "ipython3",
   "version": "3.5.4"
  }
 },
 "nbformat": 4,
 "nbformat_minor": 2
}
